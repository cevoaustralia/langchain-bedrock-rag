{
 "cells": [
  {
   "cell_type": "code",
   "execution_count": null,
   "metadata": {},
   "outputs": [],
   "source": [
    "import os\n",
    "\n",
    "from astrapy.db import AstraDB\n",
    "import streamlit as st\n",
    "\n",
    "\n",
    "ASTRA_DB_APPLICATION_TOKEN = st.secrets[\"ASTRA_DB_APPLICATION_TOKEN\"]\n",
    "\n",
    "ASTRA_VECTOR_ENDPOINT = st.secrets[\"ASTRA_VECTOR_ENDPOINT\"]\n",
    "ASTRA_DB_KEYSPACE = \"default_keyspace\"\n",
    "ASTRA_DB_COLLECTION = \"awssummit\""
   ]
  },
  {
   "cell_type": "code",
   "execution_count": null,
   "metadata": {},
   "outputs": [],
   "source": [
    "\n",
    "# Initialize the client. The namespace parameter is optional if you use\n",
    "# \"default_keyspace\".\n",
    "db = AstraDB(\n",
    "    token=ASTRA_DB_APPLICATION_TOKEN,\n",
    "    api_endpoint=ASTRA_VECTOR_ENDPOINT,\n",
    "    #namespace=ASTRA_DB_KEYSPACE,\n",
    ")"
   ]
  },
  {
   "cell_type": "code",
   "execution_count": null,
   "metadata": {},
   "outputs": [],
   "source": [
    "# Initialize the AstraDB client and collection\n",
    "#db = AstraDB(token=\"TOKEN\", api_endpoint=\"API_ENDPOINT\")\n",
    "collection = db.collection(collection_name=ASTRA_DB_COLLECTION)"
   ]
  },
  {
   "cell_type": "code",
   "execution_count": null,
   "metadata": {},
   "outputs": [],
   "source": [
    "results = collection.find({\"metadata.owner\": \"Jpitsos\"})\n",
    "\n",
    "for document in results[\"data\"][\"documents\"]:\n",
    "    print(document[\"_id\"])"
   ]
  },
  {
   "cell_type": "code",
   "execution_count": 18,
   "metadata": {},
   "outputs": [
    {
     "name": "stdout",
     "output_type": "stream",
     "text": [
      "{'status': {'deletedCount': 6}}\n"
     ]
    }
   ],
   "source": [
    "# Delete multiple documents from the collection based on a query\n",
    "deleted_count = collection.delete_many(filter={\"metadata.owner\": \"Jpitsos\"})\n",
    "print(deleted_count)"
   ]
  },
  {
   "cell_type": "code",
   "execution_count": null,
   "metadata": {},
   "outputs": [],
   "source": []
  }
 ],
 "metadata": {
  "kernelspec": {
   "display_name": "env_ragstack",
   "language": "python",
   "name": "python3"
  },
  "language_info": {
   "codemirror_mode": {
    "name": "ipython",
    "version": 3
   },
   "file_extension": ".py",
   "mimetype": "text/x-python",
   "name": "python",
   "nbconvert_exporter": "python",
   "pygments_lexer": "ipython3",
   "version": "3.9.18"
  }
 },
 "nbformat": 4,
 "nbformat_minor": 2
}
